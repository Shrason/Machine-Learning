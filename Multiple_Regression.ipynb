{
  "cells": [
    {
      "cell_type": "markdown",
      "metadata": {
        "id": "view-in-github",
        "colab_type": "text"
      },
      "source": [
        "<a href=\"https://colab.research.google.com/github/Shrason/Machine-Learning/blob/main/Multiple_Regression.ipynb\" target=\"_parent\"><img src=\"https://colab.research.google.com/assets/colab-badge.svg\" alt=\"Open In Colab\"/></a>"
      ]
    },
    {
      "cell_type": "code",
      "execution_count": null,
      "metadata": {
        "id": "Do281qB7KtHI"
      },
      "outputs": [],
      "source": [
        "import pandas as pd\n",
        "import numpy as np\n",
        "import matplotlib.pyplot as plt"
      ]
    },
    {
      "cell_type": "code",
      "execution_count": null,
      "metadata": {
        "id": "fT1bKYZ2KtHL"
      },
      "outputs": [],
      "source": [
        "df = pd.read_csv('Covid_multiple.csv')"
      ]
    },
    {
      "cell_type": "code",
      "execution_count": null,
      "metadata": {
        "id": "1I2LRFjeKtHM",
        "outputId": "b4da26d1-b08f-4a1e-ba87-39b4771485ac"
      },
      "outputs": [
        {
          "data": {
            "text/html": [
              "<div>\n",
              "<style scoped>\n",
              "    .dataframe tbody tr th:only-of-type {\n",
              "        vertical-align: middle;\n",
              "    }\n",
              "\n",
              "    .dataframe tbody tr th {\n",
              "        vertical-align: top;\n",
              "    }\n",
              "\n",
              "    .dataframe thead th {\n",
              "        text-align: right;\n",
              "    }\n",
              "</style>\n",
              "<table border=\"1\" class=\"dataframe\">\n",
              "  <thead>\n",
              "    <tr style=\"text-align: right;\">\n",
              "      <th></th>\n",
              "      <th>age</th>\n",
              "      <th>Body Temp</th>\n",
              "      <th>Chronic disease</th>\n",
              "      <th>Blood O2 Level in Percentage</th>\n",
              "      <th>Anti Bodies</th>\n",
              "    </tr>\n",
              "  </thead>\n",
              "  <tbody>\n",
              "    <tr>\n",
              "      <th>0</th>\n",
              "      <td>10</td>\n",
              "      <td>Moderate</td>\n",
              "      <td>0</td>\n",
              "      <td>97</td>\n",
              "      <td>127181</td>\n",
              "    </tr>\n",
              "    <tr>\n",
              "      <th>1</th>\n",
              "      <td>80</td>\n",
              "      <td>High</td>\n",
              "      <td>0</td>\n",
              "      <td>92</td>\n",
              "      <td>61004</td>\n",
              "    </tr>\n",
              "    <tr>\n",
              "      <th>2</th>\n",
              "      <td>10</td>\n",
              "      <td>Low</td>\n",
              "      <td>0</td>\n",
              "      <td>97</td>\n",
              "      <td>111911</td>\n",
              "    </tr>\n",
              "    <tr>\n",
              "      <th>3</th>\n",
              "      <td>81</td>\n",
              "      <td>High</td>\n",
              "      <td>4</td>\n",
              "      <td>75</td>\n",
              "      <td>39010</td>\n",
              "    </tr>\n",
              "    <tr>\n",
              "      <th>4</th>\n",
              "      <td>12</td>\n",
              "      <td>Moderate</td>\n",
              "      <td>0</td>\n",
              "      <td>97</td>\n",
              "      <td>110911</td>\n",
              "    </tr>\n",
              "  </tbody>\n",
              "</table>\n",
              "</div>"
            ],
            "text/plain": [
              "   age Body Temp  Chronic disease  Blood O2 Level in Percentage  Anti Bodies\n",
              "0   10  Moderate                0                            97       127181\n",
              "1   80      High                0                            92        61004\n",
              "2   10       Low                0                            97       111911\n",
              "3   81      High                4                            75        39010\n",
              "4   12  Moderate                0                            97       110911"
            ]
          },
          "execution_count": 32,
          "metadata": {},
          "output_type": "execute_result"
        }
      ],
      "source": [
        "df.head(5)"
      ]
    },
    {
      "cell_type": "code",
      "execution_count": null,
      "metadata": {
        "id": "YBheI5BtKtHN",
        "outputId": "7d3bb454-ab09-4173-bf8c-9716401f2a5f"
      },
      "outputs": [
        {
          "name": "stdout",
          "output_type": "stream",
          "text": [
            "<class 'pandas.core.frame.DataFrame'>\n",
            "RangeIndex: 70 entries, 0 to 69\n",
            "Data columns (total 5 columns):\n",
            " #   Column                        Non-Null Count  Dtype \n",
            "---  ------                        --------------  ----- \n",
            " 0   age                           70 non-null     int64 \n",
            " 1   Body Temp                     70 non-null     object\n",
            " 2   Chronic disease               70 non-null     int64 \n",
            " 3   Blood O2 Level in Percentage  70 non-null     int64 \n",
            " 4   Anti Bodies                   70 non-null     int64 \n",
            "dtypes: int64(4), object(1)\n",
            "memory usage: 2.9+ KB\n"
          ]
        }
      ],
      "source": [
        "df.info()"
      ]
    },
    {
      "cell_type": "code",
      "execution_count": null,
      "metadata": {
        "id": "1FCMCUHIKtHN"
      },
      "outputs": [],
      "source": [
        "X = df.iloc[:,:-1].values\n",
        "y = df.iloc[:,-1].values"
      ]
    },
    {
      "cell_type": "code",
      "execution_count": null,
      "metadata": {
        "id": "P1CobhpDKtHN"
      },
      "outputs": [],
      "source": [
        "from sklearn.compose import ColumnTransformer\n",
        "from sklearn.preprocessing import OneHotEncoder\n",
        "ct = ColumnTransformer(transformers= [('encoder',OneHotEncoder(),[1])],remainder='passthrough')\n",
        "X = np.array(ct.fit_transform(X))"
      ]
    },
    {
      "cell_type": "code",
      "execution_count": null,
      "metadata": {
        "id": "IKw-KxsqKtHO",
        "outputId": "c2351f5e-c63a-4dc1-abe7-ad7843a883a2"
      },
      "outputs": [
        {
          "name": "stdout",
          "output_type": "stream",
          "text": [
            "[[0.0 0.0 1.0 10 0 97]\n",
            " [1.0 0.0 0.0 80 0 92]\n",
            " [0.0 1.0 0.0 10 0 97]\n",
            " [1.0 0.0 0.0 81 4 75]\n",
            " [0.0 0.0 1.0 12 0 97]\n",
            " [0.0 1.0 0.0 18 0 66]\n",
            " [0.0 0.0 1.0 13 0 93]\n",
            " [1.0 0.0 0.0 94 4 64]\n",
            " [1.0 0.0 0.0 86 2 76]\n",
            " [0.0 0.0 1.0 20 0 92]\n",
            " [0.0 0.0 1.0 15 0 94]\n",
            " [0.0 0.0 1.0 15 0 92]\n",
            " [0.0 1.0 0.0 16 0 92]\n",
            " [0.0 0.0 1.0 17 0 93]\n",
            " [0.0 0.0 1.0 18 0 93]\n",
            " [0.0 0.0 1.0 19 0 92]\n",
            " [0.0 0.0 1.0 19 0 89]\n",
            " [0.0 0.0 1.0 12 0 97]\n",
            " [0.0 0.0 1.0 20 0 93]\n",
            " [0.0 0.0 1.0 24 0 92]\n",
            " [0.0 0.0 1.0 25 0 93]\n",
            " [1.0 0.0 0.0 59 2 68]\n",
            " [1.0 0.0 0.0 63 1 66]\n",
            " [0.0 0.0 1.0 25 1 62]\n",
            " [1.0 0.0 0.0 26 0 94]\n",
            " [0.0 1.0 0.0 26 0 97]\n",
            " [0.0 0.0 1.0 28 0 99]\n",
            " [1.0 0.0 0.0 59 0 69]\n",
            " [0.0 0.0 1.0 28 0 89]\n",
            " [0.0 0.0 1.0 29 0 93]\n",
            " [0.0 0.0 1.0 48 0 93]\n",
            " [0.0 0.0 1.0 30 0 62]\n",
            " [0.0 0.0 1.0 30 0 86]\n",
            " [0.0 0.0 1.0 32 0 84]\n",
            " [0.0 0.0 1.0 34 1 90]\n",
            " [0.0 0.0 1.0 35 0 89]\n",
            " [1.0 0.0 0.0 50 2 77]\n",
            " [1.0 0.0 0.0 56 2 76]\n",
            " [1.0 0.0 0.0 56 1 77]\n",
            " [1.0 0.0 0.0 36 1 90]\n",
            " [1.0 0.0 0.0 38 2 75]\n",
            " [0.0 0.0 1.0 40 0 90]\n",
            " [1.0 0.0 0.0 40 0 92]\n",
            " [1.0 0.0 0.0 61 2 76]\n",
            " [1.0 0.0 0.0 42 0 92]\n",
            " [1.0 0.0 0.0 46 0 91]\n",
            " [0.0 0.0 1.0 49 0 80]\n",
            " [1.0 0.0 0.0 52 1 80]\n",
            " [0.0 0.0 1.0 32 0 89]\n",
            " [1.0 0.0 0.0 53 1 55]\n",
            " [1.0 0.0 0.0 54 1 70]\n",
            " [1.0 0.0 0.0 90 3 67]\n",
            " [1.0 0.0 0.0 78 2 71]\n",
            " [1.0 0.0 0.0 58 0 70]\n",
            " [1.0 0.0 0.0 60 1 68]\n",
            " [0.0 0.0 1.0 61 0 90]\n",
            " [1.0 0.0 0.0 62 1 68]\n",
            " [1.0 0.0 0.0 86 3 71]\n",
            " [1.0 0.0 0.0 62 2 69]\n",
            " [1.0 0.0 0.0 64 1 73]\n",
            " [1.0 0.0 0.0 68 1 67]\n",
            " [1.0 0.0 0.0 69 0 53]\n",
            " [0.0 0.0 1.0 70 1 88]\n",
            " [1.0 0.0 0.0 74 2 75]\n",
            " [1.0 0.0 0.0 75 1 72]\n",
            " [1.0 0.0 0.0 76 4 80]\n",
            " [0.0 0.0 1.0 35 0 92]\n",
            " [0.0 0.0 1.0 13 0 94]\n",
            " [1.0 0.0 0.0 82 3 73]\n",
            " [1.0 0.0 0.0 84 3 75]]\n"
          ]
        }
      ],
      "source": [
        "print(X)"
      ]
    },
    {
      "cell_type": "code",
      "execution_count": null,
      "metadata": {
        "id": "33iM8f3MKtHO"
      },
      "outputs": [],
      "source": [
        "from sklearn.model_selection import train_test_split\n",
        "X_train, X_test, y_train, y_test = train_test_split(X,y, test_size=0.3, random_state=42)"
      ]
    },
    {
      "cell_type": "code",
      "execution_count": null,
      "metadata": {
        "id": "HHqtHeI4KtHO",
        "outputId": "2c6b484e-7865-4ee1-e55b-abe7658069e8"
      },
      "outputs": [
        {
          "data": {
            "text/html": [
              "<style>#sk-container-id-2 {color: black;}#sk-container-id-2 pre{padding: 0;}#sk-container-id-2 div.sk-toggleable {background-color: white;}#sk-container-id-2 label.sk-toggleable__label {cursor: pointer;display: block;width: 100%;margin-bottom: 0;padding: 0.3em;box-sizing: border-box;text-align: center;}#sk-container-id-2 label.sk-toggleable__label-arrow:before {content: \"▸\";float: left;margin-right: 0.25em;color: #696969;}#sk-container-id-2 label.sk-toggleable__label-arrow:hover:before {color: black;}#sk-container-id-2 div.sk-estimator:hover label.sk-toggleable__label-arrow:before {color: black;}#sk-container-id-2 div.sk-toggleable__content {max-height: 0;max-width: 0;overflow: hidden;text-align: left;background-color: #f0f8ff;}#sk-container-id-2 div.sk-toggleable__content pre {margin: 0.2em;color: black;border-radius: 0.25em;background-color: #f0f8ff;}#sk-container-id-2 input.sk-toggleable__control:checked~div.sk-toggleable__content {max-height: 200px;max-width: 100%;overflow: auto;}#sk-container-id-2 input.sk-toggleable__control:checked~label.sk-toggleable__label-arrow:before {content: \"▾\";}#sk-container-id-2 div.sk-estimator input.sk-toggleable__control:checked~label.sk-toggleable__label {background-color: #d4ebff;}#sk-container-id-2 div.sk-label input.sk-toggleable__control:checked~label.sk-toggleable__label {background-color: #d4ebff;}#sk-container-id-2 input.sk-hidden--visually {border: 0;clip: rect(1px 1px 1px 1px);clip: rect(1px, 1px, 1px, 1px);height: 1px;margin: -1px;overflow: hidden;padding: 0;position: absolute;width: 1px;}#sk-container-id-2 div.sk-estimator {font-family: monospace;background-color: #f0f8ff;border: 1px dotted black;border-radius: 0.25em;box-sizing: border-box;margin-bottom: 0.5em;}#sk-container-id-2 div.sk-estimator:hover {background-color: #d4ebff;}#sk-container-id-2 div.sk-parallel-item::after {content: \"\";width: 100%;border-bottom: 1px solid gray;flex-grow: 1;}#sk-container-id-2 div.sk-label:hover label.sk-toggleable__label {background-color: #d4ebff;}#sk-container-id-2 div.sk-serial::before {content: \"\";position: absolute;border-left: 1px solid gray;box-sizing: border-box;top: 0;bottom: 0;left: 50%;z-index: 0;}#sk-container-id-2 div.sk-serial {display: flex;flex-direction: column;align-items: center;background-color: white;padding-right: 0.2em;padding-left: 0.2em;position: relative;}#sk-container-id-2 div.sk-item {position: relative;z-index: 1;}#sk-container-id-2 div.sk-parallel {display: flex;align-items: stretch;justify-content: center;background-color: white;position: relative;}#sk-container-id-2 div.sk-item::before, #sk-container-id-2 div.sk-parallel-item::before {content: \"\";position: absolute;border-left: 1px solid gray;box-sizing: border-box;top: 0;bottom: 0;left: 50%;z-index: -1;}#sk-container-id-2 div.sk-parallel-item {display: flex;flex-direction: column;z-index: 1;position: relative;background-color: white;}#sk-container-id-2 div.sk-parallel-item:first-child::after {align-self: flex-end;width: 50%;}#sk-container-id-2 div.sk-parallel-item:last-child::after {align-self: flex-start;width: 50%;}#sk-container-id-2 div.sk-parallel-item:only-child::after {width: 0;}#sk-container-id-2 div.sk-dashed-wrapped {border: 1px dashed gray;margin: 0 0.4em 0.5em 0.4em;box-sizing: border-box;padding-bottom: 0.4em;background-color: white;}#sk-container-id-2 div.sk-label label {font-family: monospace;font-weight: bold;display: inline-block;line-height: 1.2em;}#sk-container-id-2 div.sk-label-container {text-align: center;}#sk-container-id-2 div.sk-container {/* jupyter's `normalize.less` sets `[hidden] { display: none; }` but bootstrap.min.css set `[hidden] { display: none !important; }` so we also need the `!important` here to be able to override the default hidden behavior on the sphinx rendered scikit-learn.org. See: https://github.com/scikit-learn/scikit-learn/issues/21755 */display: inline-block !important;position: relative;}#sk-container-id-2 div.sk-text-repr-fallback {display: none;}</style><div id=\"sk-container-id-2\" class=\"sk-top-container\"><div class=\"sk-text-repr-fallback\"><pre>LinearRegression()</pre><b>In a Jupyter environment, please rerun this cell to show the HTML representation or trust the notebook. <br />On GitHub, the HTML representation is unable to render, please try loading this page with nbviewer.org.</b></div><div class=\"sk-container\" hidden><div class=\"sk-item\"><div class=\"sk-estimator sk-toggleable\"><input class=\"sk-toggleable__control sk-hidden--visually\" id=\"sk-estimator-id-2\" type=\"checkbox\" checked><label for=\"sk-estimator-id-2\" class=\"sk-toggleable__label sk-toggleable__label-arrow\">LinearRegression</label><div class=\"sk-toggleable__content\"><pre>LinearRegression()</pre></div></div></div></div></div>"
            ],
            "text/plain": [
              "LinearRegression()"
            ]
          },
          "execution_count": 48,
          "metadata": {},
          "output_type": "execute_result"
        }
      ],
      "source": [
        "from sklearn.linear_model import LinearRegression\n",
        "regressor = LinearRegression()\n",
        "regressor.fit(X_train,y_train)"
      ]
    },
    {
      "cell_type": "code",
      "execution_count": null,
      "metadata": {
        "id": "qhBiaAgoKtHP",
        "outputId": "ebfdb54f-635b-4f3e-9200-5df9a69ab29f"
      },
      "outputs": [
        {
          "name": "stdout",
          "output_type": "stream",
          "text": [
            "[[ 60698.49  59994.  ]\n",
            " [106610.63 127181.  ]\n",
            " [ 63304.78  50104.  ]\n",
            " [105389.04 110911.  ]\n",
            " [ 63167.55  62019.  ]\n",
            " [ 99229.33  97101.  ]\n",
            " [102601.65 101000.  ]\n",
            " [ 89034.77  90015.  ]\n",
            " [ 82347.89  84008.  ]\n",
            " [105089.42 100000.  ]\n",
            " [ 83253.02  75012.  ]\n",
            " [ 98911.    98101.  ]\n",
            " [103823.24 112101.  ]\n",
            " [ 95591.14  99110.  ]\n",
            " [ 63790.34  67019.  ]\n",
            " [ 82127.04  83891.  ]\n",
            " [ 58956.78  56095.  ]\n",
            " [ 88794.05  90124.  ]\n",
            " [ 41626.83  41891.  ]\n",
            " [ 71873.93  73010.  ]\n",
            " [ 98566.79  98081.  ]]\n"
          ]
        }
      ],
      "source": [
        "y_pred = regressor.predict(X_test)\n",
        "np.set_printoptions(precision=2)\n",
        "print(np.concatenate((y_pred.reshape(len(y_pred),1), y_test.reshape(len(y_test),1)),1))"
      ]
    },
    {
      "cell_type": "code",
      "execution_count": null,
      "metadata": {
        "id": "MXj9ogr9KtHP",
        "outputId": "6a682017-9b95-4921-bc42-e3947bb59bd9"
      },
      "outputs": [
        {
          "data": {
            "text/plain": [
              "<function matplotlib.pyplot.show(close=None, block=None)>"
            ]
          },
          "execution_count": 51,
          "metadata": {},
          "output_type": "execute_result"
        },
        {
          "data": {
            "image/png": "[encoded data removed]",
            "text/plain": [
              "<Figure size 640x480 with 1 Axes>"
            ]
          },
          "metadata": {},
          "output_type": "display_data"
        }
      ],
      "source": [
        "plt.plot(y_pred)\n",
        "plt.plot(y_test)\n",
        "plt.show"
      ]
    }
  ],
  "metadata": {
    "kernelspec": {
      "display_name": "Python 3",
      "language": "python",
      "name": "python3"
    },
    "language_info": {
      "codemirror_mode": {
        "name": "ipython",
        "version": 3
      },
      "file_extension": ".py",
      "mimetype": "text/x-python",
      "name": "python",
      "nbconvert_exporter": "python",
      "pygments_lexer": "ipython3",
      "version": "3.11.3"
    },
    "colab": {
      "provenance": [],
      "include_colab_link": true
    }
  },
  "nbformat": 4,
  "nbformat_minor": 0
}